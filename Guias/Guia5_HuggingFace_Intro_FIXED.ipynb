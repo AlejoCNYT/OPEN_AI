{
 "cells": [
  {
   "cell_type": "markdown",
   "id": "ad7c230a",
   "metadata": {},
   "source": [
    "# Guía — Introducción práctica a Hugging Face (HF) — **versión corregida**\n",
    "\n",
    "_Actualizado: 2025-10-30 00:40 UTC_  \n",
    "Esta versión agrega **rutas offline/online**, corrige celdas incompletas y usa APIs vigentes\n",
    "de `transformers`, `datasets`, `huggingface_hub` y `tokenizers`."
   ]
  },
  {
   "cell_type": "markdown",
   "id": "7fa3e2c6",
   "metadata": {},
   "source": [
    "## 0) Modo de ejecución\n",
    "\n",
    "- Si **tienes internet** (Colab, tu laptop con red): usa `RUN_ONLINE = True` y ejecuta la celda de instalación.  \n",
    "- Si **no tienes internet**: deja `RUN_ONLINE = False`. Las celdas que requieren descargar modelos/datasets se **saltarán** automáticamente."
   ]
  },
  {
   "cell_type": "code",
   "execution_count": 1,
   "id": "af7852a7",
   "metadata": {},
   "outputs": [
    {
     "name": "stdout",
     "output_type": "stream",
     "text": [
      "RUN_ONLINE = True\n"
     ]
    }
   ],
   "source": [
    "RUN_ONLINE = True  # ponlo en False si estás sin internet\n",
    "\n",
    "import os\n",
    "if not RUN_ONLINE:\n",
    "    os.environ[\"HF_HUB_OFFLINE\"] = \"1\"   # fuerza modo offline en Hugging Face Hub\n",
    "    os.environ[\"TRANSFORMERS_OFFLINE\"] = \"1\"\n",
    "print(\"RUN_ONLINE =\", RUN_ONLINE)"
   ]
  },
  {
   "cell_type": "markdown",
   "id": "2d5ae0cc",
   "metadata": {},
   "source": [
    "## 1) Instalación (solo online)"
   ]
  },
  {
   "cell_type": "code",
   "execution_count": 6,
   "id": "9e87d337",
   "metadata": {},
   "outputs": [],
   "source": [
    "import sys, subprocess\n",
    "if RUN_ONLINE:\n",
    "    subprocess.check_call([sys.executable, \"-m\", \"pip\", \"install\", \"-U\",\n",
    "                           \"transformers\", \"datasets\", \"huggingface_hub\", \"tokenizers\", \"torch\"])\n"
   ]
  },
  {
   "cell_type": "markdown",
   "id": "a8d2a4fb",
   "metadata": {},
   "source": [
    "## 2) Imports y versiones"
   ]
  },
  {
   "cell_type": "code",
   "execution_count": 7,
   "id": "e64acc8a",
   "metadata": {},
   "outputs": [
    {
     "name": "stderr",
     "output_type": "stream",
     "text": [
      "C:\\Users\\usuario\\AppData\\Local\\Packages\\PythonSoftwareFoundation.Python.3.11_qbz5n2kfra8p0\\LocalCache\\local-packages\\Python311\\site-packages\\tqdm\\auto.py:21: TqdmWarning: IProgress not found. Please update jupyter and ipywidgets. See https://ipywidgets.readthedocs.io/en/stable/user_install.html\n",
      "  from .autonotebook import tqdm as notebook_tqdm\n"
     ]
    },
    {
     "name": "stdout",
     "output_type": "stream",
     "text": [
      "OK  import transformers  -> 4.57.1\n",
      "OK  import datasets  -> 4.3.0\n",
      "OK  import huggingface_hub  -> 0.36.0\n",
      "OK  import tokenizers  -> 0.22.1\n",
      "OK  import torch  -> 2.9.0+cpu\n",
      "Torch cuda available: False\n"
     ]
    }
   ],
   "source": [
    "import importlib, sys\n",
    "\n",
    "def safe_import(name):\n",
    "    try:\n",
    "        m = importlib.import_module(name)\n",
    "        print(f\"OK  import {name}  ->\", getattr(m, \"__version__\", \"(sin __version__)\"))\n",
    "        return m\n",
    "    except Exception as e:\n",
    "        print(f\"FAIL import {name}:\", e)\n",
    "        return None\n",
    "\n",
    "transformers = safe_import(\"transformers\")\n",
    "datasets = safe_import(\"datasets\")\n",
    "hf_hub = safe_import(\"huggingface_hub\")\n",
    "tokenizers = safe_import(\"tokenizers\")\n",
    "torch = safe_import(\"torch\")\n",
    "\n",
    "if torch is not None:\n",
    "    print(\"Torch cuda available:\", torch.cuda.is_available())"
   ]
  },
  {
   "cell_type": "markdown",
   "id": "d8dfd1a4",
   "metadata": {},
   "source": [
    "## 3) `pipeline`: primeros pasos (sentimiento, fill‑mask, generación de texto)"
   ]
  },
  {
   "cell_type": "code",
   "execution_count": 8,
   "id": "294ada34",
   "metadata": {},
   "outputs": [
    {
     "name": "stderr",
     "output_type": "stream",
     "text": [
      "C:\\Users\\usuario\\AppData\\Local\\Packages\\PythonSoftwareFoundation.Python.3.11_qbz5n2kfra8p0\\LocalCache\\local-packages\\Python311\\site-packages\\huggingface_hub\\file_download.py:143: UserWarning: `huggingface_hub` cache-system uses symlinks by default to efficiently store duplicated files but your machine does not support them in C:\\Users\\usuario\\.cache\\huggingface\\hub\\models--distilbert-base-uncased-finetuned-sst-2-english. Caching files will still work but in a degraded version that might require more space on your disk. This warning can be disabled by setting the `HF_HUB_DISABLE_SYMLINKS_WARNING` environment variable. For more details, see https://huggingface.co/docs/huggingface_hub/how-to-cache#limitations.\n",
      "To support symlinks on Windows, you either need to activate Developer Mode or to run Python as an administrator. In order to activate developer mode, see this article: https://docs.microsoft.com/en-us/windows/apps/get-started/enable-your-device-for-development\n",
      "  warnings.warn(message)\n",
      "Xet Storage is enabled for this repo, but the 'hf_xet' package is not installed. Falling back to regular HTTP download. For better performance, install the package with: `pip install huggingface_hub[hf_xet]` or `pip install hf_xet`\n",
      "Device set to use cpu\n"
     ]
    },
    {
     "name": "stdout",
     "output_type": "stream",
     "text": [
      "Sentiment: [{'label': 'POSITIVE', 'score': 0.952487051486969}]\n"
     ]
    },
    {
     "name": "stderr",
     "output_type": "stream",
     "text": [
      "C:\\Users\\usuario\\AppData\\Local\\Packages\\PythonSoftwareFoundation.Python.3.11_qbz5n2kfra8p0\\LocalCache\\local-packages\\Python311\\site-packages\\huggingface_hub\\file_download.py:143: UserWarning: `huggingface_hub` cache-system uses symlinks by default to efficiently store duplicated files but your machine does not support them in C:\\Users\\usuario\\.cache\\huggingface\\hub\\models--bert-base-uncased. Caching files will still work but in a degraded version that might require more space on your disk. This warning can be disabled by setting the `HF_HUB_DISABLE_SYMLINKS_WARNING` environment variable. For more details, see https://huggingface.co/docs/huggingface_hub/how-to-cache#limitations.\n",
      "To support symlinks on Windows, you either need to activate Developer Mode or to run Python as an administrator. In order to activate developer mode, see this article: https://docs.microsoft.com/en-us/windows/apps/get-started/enable-your-device-for-development\n",
      "  warnings.warn(message)\n",
      "Xet Storage is enabled for this repo, but the 'hf_xet' package is not installed. Falling back to regular HTTP download. For better performance, install the package with: `pip install huggingface_hub[hf_xet]` or `pip install hf_xet`\n",
      "Some weights of the model checkpoint at bert-base-uncased were not used when initializing BertForMaskedLM: ['bert.pooler.dense.bias', 'bert.pooler.dense.weight', 'cls.seq_relationship.bias', 'cls.seq_relationship.weight']\n",
      "- This IS expected if you are initializing BertForMaskedLM from the checkpoint of a model trained on another task or with another architecture (e.g. initializing a BertForSequenceClassification model from a BertForPreTraining model).\n",
      "- This IS NOT expected if you are initializing BertForMaskedLM from the checkpoint of a model that you expect to be exactly identical (initializing a BertForSequenceClassification model from a BertForSequenceClassification model).\n",
      "Device set to use cpu\n"
     ]
    },
    {
     "name": "stdout",
     "output_type": "stream",
     "text": [
      "[{'score': 0.9969369173049927, 'token': 3007, 'token_str': 'capital', 'sequence': 'paris is the capital of france.'}, {'score': 0.0005914842477068305, 'token': 2540, 'token_str': 'heart', 'sequence': 'paris is the heart of france.'}]\n"
     ]
    },
    {
     "name": "stderr",
     "output_type": "stream",
     "text": [
      "C:\\Users\\usuario\\AppData\\Local\\Packages\\PythonSoftwareFoundation.Python.3.11_qbz5n2kfra8p0\\LocalCache\\local-packages\\Python311\\site-packages\\huggingface_hub\\file_download.py:143: UserWarning: `huggingface_hub` cache-system uses symlinks by default to efficiently store duplicated files but your machine does not support them in C:\\Users\\usuario\\.cache\\huggingface\\hub\\models--gpt2. Caching files will still work but in a degraded version that might require more space on your disk. This warning can be disabled by setting the `HF_HUB_DISABLE_SYMLINKS_WARNING` environment variable. For more details, see https://huggingface.co/docs/huggingface_hub/how-to-cache#limitations.\n",
      "To support symlinks on Windows, you either need to activate Developer Mode or to run Python as an administrator. In order to activate developer mode, see this article: https://docs.microsoft.com/en-us/windows/apps/get-started/enable-your-device-for-development\n",
      "  warnings.warn(message)\n",
      "Xet Storage is enabled for this repo, but the 'hf_xet' package is not installed. Falling back to regular HTTP download. For better performance, install the package with: `pip install huggingface_hub[hf_xet]` or `pip install hf_xet`\n",
      "Device set to use cpu\n",
      "Setting `pad_token_id` to `eos_token_id`:50256 for open-end generation.\n"
     ]
    },
    {
     "name": "stdout",
     "output_type": "stream",
     "text": [
      "[{'generated_text': \"Hello AI classroom, today we will learn about it. What does 'AI' mean? Well, you might say 'AI-like' but I don't mean that in a bad way. It's more like 'AI-like' or\"}]\n"
     ]
    }
   ],
   "source": [
    "from typing import List\n",
    "from transformers import pipeline, AutoTokenizer\n",
    "\n",
    "if RUN_ONLINE:\n",
    "    # 3.1 Sentiment Analysis\n",
    "    clf = pipeline(\"sentiment-analysis\", model=\"distilbert-base-uncased-finetuned-sst-2-english\")\n",
    "    out = clf(\"Este curso de IA en el aula me parece excelente.\")\n",
    "    print(\"Sentiment:\", out)\n",
    "\n",
    "    # 3.2 Fill-mask (usa [MASK] token)\n",
    "    mlm = pipeline(\"fill-mask\", model=\"bert-base-uncased\")\n",
    "    print(mlm(\"Paris is the [MASK] of France.\")[:2])\n",
    "\n",
    "    # 3.3 Text generation (usa max_new_tokens — API vigente)\n",
    "    gen_tok = AutoTokenizer.from_pretrained(\"gpt2\")\n",
    "    gen = pipeline(\"text-generation\", model=\"gpt2\")\n",
    "    prompt = \"Hello AI classroom, today we will learn about\"\n",
    "    print(gen(prompt, max_new_tokens=40, num_return_sequences=1))\n",
    "else:\n",
    "    print(\"Modo offline: ejemplos con pipeline omitidos (requieren descargar modelos).\")"
   ]
  },
  {
   "cell_type": "markdown",
   "id": "c576442d",
   "metadata": {},
   "source": [
    "## 4) AutoTokenizer + AutoModel (control fino)"
   ]
  },
  {
   "cell_type": "code",
   "execution_count": 9,
   "id": "1f122a8e",
   "metadata": {},
   "outputs": [
    {
     "name": "stdout",
     "output_type": "stream",
     "text": [
      "Vocab size: 30522 | Hidden size: 768\n"
     ]
    }
   ],
   "source": [
    "from transformers import AutoTokenizer, AutoModel\n",
    "\n",
    "if RUN_ONLINE:\n",
    "    model_id = \"bert-base-uncased\"\n",
    "    tok = AutoTokenizer.from_pretrained(model_id)\n",
    "    mdl = AutoModel.from_pretrained(model_id)\n",
    "    print(\"Vocab size:\", tok.vocab_size, \"| Hidden size:\", mdl.config.hidden_size)\n",
    "else:\n",
    "    print(\"Modo offline: omitido (descarga de pesos requerida).\")"
   ]
  },
  {
   "cell_type": "markdown",
   "id": "1413677c",
   "metadata": {},
   "source": [
    "## 5) `datasets`: cargar y explorar (IMDB de ejemplo)"
   ]
  },
  {
   "cell_type": "code",
   "execution_count": 10,
   "id": "e59623bc",
   "metadata": {},
   "outputs": [
    {
     "name": "stderr",
     "output_type": "stream",
     "text": [
      "C:\\Users\\usuario\\AppData\\Local\\Packages\\PythonSoftwareFoundation.Python.3.11_qbz5n2kfra8p0\\LocalCache\\local-packages\\Python311\\site-packages\\huggingface_hub\\file_download.py:143: UserWarning: `huggingface_hub` cache-system uses symlinks by default to efficiently store duplicated files but your machine does not support them in C:\\Users\\usuario\\.cache\\huggingface\\hub\\datasets--imdb. Caching files will still work but in a degraded version that might require more space on your disk. This warning can be disabled by setting the `HF_HUB_DISABLE_SYMLINKS_WARNING` environment variable. For more details, see https://huggingface.co/docs/huggingface_hub/how-to-cache#limitations.\n",
      "To support symlinks on Windows, you either need to activate Developer Mode or to run Python as an administrator. In order to activate developer mode, see this article: https://docs.microsoft.com/en-us/windows/apps/get-started/enable-your-device-for-development\n",
      "  warnings.warn(message)\n",
      "Xet Storage is enabled for this repo, but the 'hf_xet' package is not installed. Falling back to regular HTTP download. For better performance, install the package with: `pip install huggingface_hub[hf_xet]` or `pip install hf_xet`\n",
      "Xet Storage is enabled for this repo, but the 'hf_xet' package is not installed. Falling back to regular HTTP download. For better performance, install the package with: `pip install huggingface_hub[hf_xet]` or `pip install hf_xet`\n",
      "Xet Storage is enabled for this repo, but the 'hf_xet' package is not installed. Falling back to regular HTTP download. For better performance, install the package with: `pip install huggingface_hub[hf_xet]` or `pip install hf_xet`\n",
      "Generating train split: 100%|██████████| 25000/25000 [00:00<00:00, 25848.87 examples/s]\n",
      "Generating test split: 100%|██████████| 25000/25000 [00:00<00:00, 271784.19 examples/s]\n",
      "Generating unsupervised split: 100%|██████████| 50000/50000 [00:00<00:00, 57062.69 examples/s] "
     ]
    },
    {
     "name": "stdout",
     "output_type": "stream",
     "text": [
      "DatasetDict({\n",
      "    train: Dataset({\n",
      "        features: ['text', 'label'],\n",
      "        num_rows: 25000\n",
      "    })\n",
      "    test: Dataset({\n",
      "        features: ['text', 'label'],\n",
      "        num_rows: 25000\n",
      "    })\n",
      "    unsupervised: Dataset({\n",
      "        features: ['text', 'label'],\n",
      "        num_rows: 50000\n",
      "    })\n",
      "})\n",
      "Ejemplo train[0]: {'text': 'I rented I AM CURIOUS-YELLOW from my video store because of all the controversy that surrounded it when it was first released in 1967. I also heard that at first it was seized by U.S. customs if it ever tried to enter this country, therefore being a fan of films considered \"controversial\" I really had to see this for myself.<br /><br />The plot is centered around a young Swedish drama student named Lena who wants to learn everything she can about life. In particular she wants to focus her attentions to making some sort of documentary on what the average Swede thought about certain political issues such as the Vietnam War and race issues in the United States. In between asking politicians and ordinary denizens of Stockholm about their opinions on politics, she has sex with her drama teacher, classmates, and married men.<br /><br />What kills me about I AM CURIOUS-YELLOW is that 40 years ago, this was considered pornographic. Really, the sex and nudity scenes are few and far between, even then it\\'s not shot like some cheaply made porno. While my countrymen mind find it shocking, in reality sex and nudity are a major staple in Swedish cinema. Even Ingmar Bergman, arguably their answer to good old boy John Ford, had sex scenes in his films.<br /><br />I do commend the filmmakers for the fact that any sex shown in the film is shown for artistic purposes rather than just to shock people and make money to be shown in pornographic theaters in America. I AM CURIOUS-YELLOW is a good film for anyone wanting to study the meat and potatoes (no pun intended) of Swedish cinema. But really, this film doesn\\'t have much of a plot.', 'label': 0}\n"
     ]
    },
    {
     "name": "stderr",
     "output_type": "stream",
     "text": [
      "\n"
     ]
    }
   ],
   "source": [
    "if RUN_ONLINE:\n",
    "    from datasets import load_dataset\n",
    "    imdb = load_dataset(\"imdb\")\n",
    "    print(imdb)\n",
    "    print(\"Ejemplo train[0]:\", imdb[\"train\"][0])\n",
    "else:\n",
    "    print(\"Modo offline: omitido (requiere bajar dataset).\")"
   ]
  },
  {
   "cell_type": "markdown",
   "id": "be196f83",
   "metadata": {},
   "source": [
    "## 6) Hugging Face Inference API (remoto)"
   ]
  },
  {
   "cell_type": "markdown",
   "id": "31c937d5",
   "metadata": {},
   "source": [
    "Para usar la Inference API necesitas un **token** en tu cuenta HF:  \n",
    "1. Crea un token en <https://huggingface.co/settings/tokens>  \n",
    "2. Asigna el valor a la variable `HF_TOKEN` o inicia sesión con `notebook_login()`."
   ]
  },
  {
   "cell_type": "code",
   "execution_count": null,
   "id": "a1928cc6",
   "metadata": {},
   "outputs": [
    {
     "name": "stdout",
     "output_type": "stream",
     "text": [
      "Omitido: requiere HF_TOKEN y conexión.\n"
     ]
    }
   ],
   "source": [
    "import os\n",
    "HF_TOKEN = os.environ.get(\"\", None)\n",
    "\n",
    "if RUN_ONLINE and HF_TOKEN:\n",
    "    from huggingface_hub import InferenceClient\n",
    "    client = InferenceClient(token=HF_TOKEN)\n",
    "    resp = client.text_generation(prompt=\"Explain transformers in 2 sentences.\", model=\"gpt2\", max_new_tokens=40)\n",
    "    print(resp[:200], \"...\")\n",
    "else:\n",
    "    print(\"Omitido: requiere HF_TOKEN y conexión.\")"
   ]
  },
  {
   "cell_type": "markdown",
   "id": "709b9a51",
   "metadata": {},
   "source": [
    "## 7) Embeddings (representaciones) con `transformers` puros"
   ]
  },
  {
   "cell_type": "markdown",
   "id": "a1411329",
   "metadata": {},
   "source": [
    "Usamos un modelo base (BERT) y un **pooling promedio** para producir embeddings de oraciones, evitando\n",
    "dependencias extra como `sentence-transformers`. Con GPU disponible, `torch` usará CUDA automáticamente."
   ]
  },
  {
   "cell_type": "code",
   "execution_count": 14,
   "id": "302388df",
   "metadata": {},
   "outputs": [
    {
     "name": "stdout",
     "output_type": "stream",
     "text": [
      "cos(0,1) ~ 0.767 | cos(0,2) ~ 0.5186\n"
     ]
    }
   ],
   "source": [
    "import torch\n",
    "from transformers import AutoTokenizer, AutoModel\n",
    "\n",
    "def mean_pool(last_hidden_state: torch.Tensor, attention_mask: torch.Tensor) -> torch.Tensor:\n",
    "    # enmascara y promedia a lo largo de la dimensión de tokens\n",
    "    mask = attention_mask.unsqueeze(-1).expand(last_hidden_state.size()).float()\n",
    "    summed = (last_hidden_state * mask).sum(1)\n",
    "    counts = mask.sum(1).clamp(min=1e-9)\n",
    "    return summed / counts\n",
    "\n",
    "sentences = [\n",
    "    \"Machine learning improves with more data.\",\n",
    "    \"Deep learning models are trained with GPUs.\",\n",
    "    \"The Eiffel Tower is in Paris.\"\n",
    "]\n",
    "\n",
    "if RUN_ONLINE:\n",
    "    model_id = \"bert-base-uncased\"\n",
    "    tok = AutoTokenizer.from_pretrained(model_id)\n",
    "    mdl = AutoModel.from_pretrained(model_id)\n",
    "    enc = tok(sentences, padding=True, truncation=True, return_tensors=\"pt\")\n",
    "    with torch.no_grad():\n",
    "        out = mdl(**enc)\n",
    "    emb = mean_pool(out.last_hidden_state, enc[\"attention_mask\"])\n",
    "    # Cosine similarities\n",
    "    sim01 = torch.nn.functional.cosine_similarity(emb[0], emb[1], dim=0).item()\n",
    "    sim02 = torch.nn.functional.cosine_similarity(emb[0], emb[2], dim=0).item()\n",
    "    print(\"cos(0,1) ~\", round(sim01, 4), \"| cos(0,2) ~\", round(sim02, 4))\n",
    "else:\n",
    "    print(\"Modo offline: omitido (requiere pesos del modelo).\")"
   ]
  },
  {
   "cell_type": "markdown",
   "id": "f1d9d815",
   "metadata": {},
   "source": [
    "## 8) `tokenizers`: ejemplo mínimo (BPE) — **funciona offline**"
   ]
  },
  {
   "cell_type": "code",
   "execution_count": 15,
   "id": "c5446224",
   "metadata": {},
   "outputs": [
    {
     "name": "stdout",
     "output_type": "stream",
     "text": [
      "Tokenizer BPE vacío creado (demo).\n"
     ]
    }
   ],
   "source": [
    "from tokenizers import Tokenizer\n",
    "from tokenizers.models import BPE\n",
    "\n",
    "tokenizer = Tokenizer(BPE())\n",
    "print(\"Tokenizer BPE vacío creado (demo).\")"
   ]
  },
  {
   "cell_type": "markdown",
   "id": "d2ae150b",
   "metadata": {},
   "source": [
    "---\n",
    "### Notas finales\n",
    "- Las secciones que antes tenían `...` fueron reemplazadas por ejemplos completos.\n",
    "- Donde aplica, usamos `max_new_tokens` (no `max_length`) y variables de entorno para modo offline.\n",
    "- Si algo no corre en tu entorno, valida versiones con la celda de imports y ajusta `RUN_ONLINE`."
   ]
  }
 ],
 "metadata": {
  "kernelspec": {
   "display_name": "Python 3",
   "language": "python",
   "name": "python3"
  },
  "language_info": {
   "codemirror_mode": {
    "name": "ipython",
    "version": 3
   },
   "file_extension": ".py",
   "mimetype": "text/x-python",
   "name": "python",
   "nbconvert_exporter": "python",
   "pygments_lexer": "ipython3",
   "version": "3.11.9"
  }
 },
 "nbformat": 4,
 "nbformat_minor": 5
}
